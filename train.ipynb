{
  "cells": [
    {
      "cell_type": "code",
      "execution_count": 10,
      "metadata": {},
      "outputs": [],
      "source": [
        "import cv2\n",
        "import numpy as np\n",
        "import pandas as pd\n",
        "from ultralytics import YOLO\n",
        "import torch\n",
        "import json"
      ]
    },
    {
      "cell_type": "code",
      "execution_count": 11,
      "metadata": {},
      "outputs": [
        {
          "name": "stdout",
          "output_type": "stream",
          "text": [
            "Empty DataFrame\n",
            "Columns: [file_name, car, quantity_car, average_speed_car, van, quantity_van, average_speed_van, bus, quantity_bus, average_speed_bus]\n",
            "Index: []\n",
            "Доступные видео:  ['KRA-2-7-2023-08-23-evening.mp4', 'KRA-25-73-2023-08-24-morning.mp4', 'placeholder']\n",
            "Downloading https://github.com/ultralytics/assets/releases/download/v0.0.0/yolov8x.pt to 'yolov8x.pt'...\n"
          ]
        },
        {
          "name": "stderr",
          "output_type": "stream",
          "text": [
            "100%|██████████| 131M/131M [00:11<00:00, 11.5MB/s] \n"
          ]
        },
        {
          "name": "stdout",
          "output_type": "stream",
          "text": [
            "Сейчас обрабатывается KRA-2-7-2023-08-23-evening.mp4\n",
            "\u001b[31m\u001b[1mrequirements:\u001b[0m Ultralytics requirement ['lapx>=0.5.2'] not found, attempting AutoUpdate...\n",
            "Collecting lapx>=0.5.2\n",
            "  Downloading lapx-0.5.5-cp311-cp311-win_amd64.whl (1.5 MB)\n",
            "     ---------------------------------------- 1.5/1.5 MB 4.7 MB/s eta 0:00:00\n",
            "Collecting Cython>=0.29.32\n",
            "  Downloading Cython-3.0.5-cp311-cp311-win_amd64.whl (2.8 MB)\n",
            "     ---------------------------------------- 2.8/2.8 MB 9.9 MB/s eta 0:00:00\n",
            "Requirement already satisfied: numpy>=1.21.6 in d:\\frequentusagefolder\\coding\\python\\mashinkimoment\\venv\\lib\\site-packages (from lapx>=0.5.2) (1.26.2)\n",
            "Installing collected packages: Cython, lapx\n",
            "Successfully installed Cython-3.0.5 lapx-0.5.5\n",
            "\n",
            "\u001b[31m\u001b[1mrequirements:\u001b[0m AutoUpdate success ✅ 4.9s, installed 1 package: ['lapx>=0.5.2']\n",
            "\u001b[31m\u001b[1mrequirements:\u001b[0m ⚠️ \u001b[1mRestart runtime or rerun command for updates to take effect\u001b[0m\n",
            "\n",
            "Финальное количество объектов в видео KRA-2-7-2023-08-23-evening.mp4 {2: 6, 5: 2, 7: 0}\n",
            "Сейчас обрабатывается KRA-25-73-2023-08-24-morning.mp4\n",
            "Финальное количество объектов в видео KRA-25-73-2023-08-24-morning.mp4 {2: 4, 5: 1, 7: 1}\n",
            "                      file_name  car  quantity_car  average_speed_car  van  \\\n",
            "0    KRA-2-7-2023-08-23-evening  car             6                  0  van   \n",
            "1  KRA-25-73-2023-08-24-morning  car             4                  0  van   \n",
            "\n",
            "   quantity_van  average_speed_van  bus  quantity_bus  average_speed_bus  \n",
            "0             0                  0  bus             2                  0  \n",
            "1             1                  0  bus             1                  0  \n"
          ]
        }
      ],
      "source": [
        "from typing import List\n",
        "from ultralytics.engine.results import Results\n",
        "import os\n",
        "\n",
        "\n",
        "FRAME_ANALYSIS_FREQ = 4\n",
        "VIDEO_DIR = \"vid\"\n",
        "USED_CLASSES = [2, 5, 7] # 2 - car, 5 - bus, 7 - truck\n",
        "\n",
        "init_keys = [\"file_name\", \"car\", \"quantity_car\", \"average_speed_car\", \"van\", \"quantity_van\", \"average_speed_van\", \"bus\", \"quantity_bus\", \"average_speed_bus\"]\n",
        "result_df = pd.DataFrame(dict.fromkeys(init_keys, []))\n",
        "print(result_df)\n",
        "\n",
        "vids = os.listdir(VIDEO_DIR)\n",
        "print(\"Доступные видео: \", vids)\n",
        "for vid_fname_idx in range(len(vids)):\n",
        "    vid_fname = vids[vid_fname_idx]\n",
        "\n",
        "    if \"placeholder\" in vid_fname:\n",
        "        continue\n",
        "\n",
        "    model = YOLO('yolov8x.pt')\n",
        "\n",
        "    print(\"Сейчас обрабатывается\", vid_fname)\n",
        "    vid_path = f\"{VIDEO_DIR}/{vid_fname}\"\n",
        "    vid_capture = cv2.VideoCapture(vid_path)\n",
        "\n",
        "    appeared_ids = []\n",
        "    count_dict = dict.fromkeys(USED_CLASSES, 0)\n",
        "\n",
        "    frame_idx = 0\n",
        "\n",
        "    while vid_capture.isOpened():\n",
        "        success, frame = vid_capture.read()\n",
        "\n",
        "        if success:\n",
        "            if frame_idx % FRAME_ANALYSIS_FREQ == 0:\n",
        "                # !!! Изменить verbose на True если нужна инфа от модели !!!\n",
        "                track_results : List[Results] = model.track(frame, persist=True, classes=USED_CLASSES, verbose=False) \n",
        "                annotated_frame = track_results[0].plot()\n",
        "\n",
        "                bb_on_frame_ids : np.ndarray = track_results[0].boxes.id.numpy()\n",
        "                bb_on_frame_cls : np.ndarray = track_results[0].boxes.cls.numpy()\n",
        "\n",
        "                for idx in range(len(bb_on_frame_ids)):\n",
        "                    if (bb_on_frame_ids[idx] not in appeared_ids):\n",
        "                        appeared_ids.append(bb_on_frame_ids[idx])\n",
        "                        count_dict[bb_on_frame_cls[idx]] += 1\n",
        "\n",
        "                # print(f\"Количество обьектов класса на {frame_idx} фрейм\", count_dict)\n",
        "\n",
        "                annotated_frame = cv2.resize(annotated_frame, (1280, 640))                \n",
        "                cv2.imshow(\"YOLOv8 Tracking\", annotated_frame)\n",
        "                key = cv2.waitKey(2)\n",
        "    \n",
        "                if  key == 27:\n",
        "                    break\n",
        "            frame_idx += 1\n",
        "        else:\n",
        "            break\n",
        "    \n",
        "    print(f\"Финальное количество объектов в видео {vid_fname}\", count_dict)\n",
        "    vid_fname_formatless = vid_fname.split(\".\")[0]\n",
        "    # !!! Там где нолики места для средней скорости !!!\n",
        "    data_inserted = [vid_fname_formatless, \"car\", count_dict[2], 0, \"van\", count_dict[7], 0, \"bus\", count_dict[5], 0] \n",
        "\n",
        "    result_df.loc[vid_fname_idx] = data_inserted\n",
        "\n",
        "    vid_capture.release()\n",
        "    cv2.destroyAllWindows()\n",
        "\n",
        "print(result_df)"
      ]
    }
  ],
  "metadata": {
    "colab": {
      "collapsed_sections": [
        "dFi96giuYY7t",
        "KN3D_k5W_WZz",
        "-NDiCPYLm2bY"
      ],
      "provenance": [],
      "toc_visible": true
    },
    "kernelspec": {
      "display_name": "Python 3",
      "language": "python",
      "name": "python3"
    },
    "language_info": {
      "codemirror_mode": {
        "name": "ipython",
        "version": 3
      },
      "file_extension": ".py",
      "mimetype": "text/x-python",
      "name": "python",
      "nbconvert_exporter": "python",
      "pygments_lexer": "ipython3",
      "version": "3.11.3"
    }
  },
  "nbformat": 4,
  "nbformat_minor": 0
}
